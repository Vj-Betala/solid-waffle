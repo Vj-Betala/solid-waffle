{
 "cells": [
  {
   "cell_type": "code",
   "execution_count": 4,
   "metadata": {},
   "outputs": [],
   "source": [
    "import pandas as pd\n",
    "import matplotlib.pyplot as plt\n",
    "import numpy as np\n",
    "import scipy.stats as stats"
   ]
  },
  {
   "cell_type": "code",
   "execution_count": 5,
   "metadata": {},
   "outputs": [],
   "source": [
    "df1 = pd.read_csv(\"archive1/Scoring.csv\")\n",
    "df2 = pd.read_csv(\"archive1/ScoringSC.csv\")\n",
    "\n",
    "pointGP1 = [x / y for x, y in zip(df1[\"Pts\"], df1[\"GP\"])]\n",
    "pointGPnp1 = np.asarray(pointGP1)\n",
    "\n",
    "pointGP2 = [x / y for x, y in zip(df2[\"Pts\"], df2[\"GP\"])]\n",
    "pointGPnp2 = np.asarray(pointGP2)"
   ]
  },
  {
   "cell_type": "code",
   "execution_count": 6,
   "metadata": {},
   "outputs": [],
   "source": [
    "randSize = 50\n",
    "pointRand1 = np.random.choice(pointGPnp1, size=randSize, replace=False)\n",
    "pointRand2 = np.random.choice(pointGPnp2, size=randSize, replace=False)\n",
    "\n",
    "stat, pval = stats.ttest_ind(a=pointRand1, b=pointRand2, equal_var=True)"
   ]
  },
  {
   "cell_type": "code",
   "execution_count": 7,
   "metadata": {},
   "outputs": [
    {
     "data": {
      "text/plain": [
       "[<matplotlib.lines.Line2D at 0x12236ae60>]"
      ]
     },
     "execution_count": 7,
     "metadata": {},
     "output_type": "execute_result"
    },
    {
     "data": {
      "image/png": "[encoded data removed]",
      "text/plain": [
       "<Figure size 432x288 with 1 Axes>"
      ]
     },
     "metadata": {
      "needs_background": "light"
     },
     "output_type": "display_data"
    }
   ],
   "source": [
    "X = np.linspace(-4,4,200)\n",
    "Y = stats.t.pdf(X, randSize -1)\n",
    "\n",
    "plt.plot(X, Y)"
   ]
  }
 ],
 "metadata": {
  "kernelspec": {
   "display_name": "Python 3.10.4 64-bit",
   "language": "python",
   "name": "python3"
  },
  "language_info": {
   "codemirror_mode": {
    "name": "ipython",
    "version": 3
   },
   "file_extension": ".py",
   "mimetype": "text/x-python",
   "name": "python",
   "nbconvert_exporter": "python",
   "pygments_lexer": "ipython3",
   "version": "3.10.4"
  },
  "orig_nbformat": 4,
  "vscode": {
   "interpreter": {
    "hash": "aee8b7b246df8f9039afb4144a1f6fd8d2ca17a180786b69acc140d282b71a49"
   }
  }
 },
 "nbformat": 4,
 "nbformat_minor": 2
}
